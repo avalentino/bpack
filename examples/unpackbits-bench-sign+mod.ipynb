{
 "cells": [
  {
   "cell_type": "code",
   "execution_count": 38,
   "metadata": {},
   "outputs": [
    {
     "name": "stdout",
     "output_type": "stream",
     "text": [
      "The autoreload extension is already loaded. To reload it, use:\n",
      "  %reload_ext autoreload\n"
     ]
    }
   ],
   "source": [
    "%load_ext autoreload\n",
    "%autoreload 2"
   ]
  },
  {
   "cell_type": "code",
   "execution_count": 39,
   "metadata": {},
   "outputs": [],
   "source": [
    "import sys\n",
    "sys.path.append(\"..\")"
   ]
  },
  {
   "cell_type": "code",
   "execution_count": 40,
   "metadata": {},
   "outputs": [],
   "source": [
    "import numpy as np"
   ]
  },
  {
   "cell_type": "code",
   "execution_count": 41,
   "metadata": {},
   "outputs": [],
   "source": [
    "from bpack.np import unpackbits, ESignMode\n",
    "from bpack.tests.test_packbits import _make_sample_data_block"
   ]
  },
  {
   "cell_type": "code",
   "execution_count": 42,
   "metadata": {},
   "outputs": [],
   "source": [
    "samples_per_block = 128\n",
    "sign_mode = ESignMode.SIGN_AND_MOD"
   ]
  },
  {
   "attachments": {},
   "cell_type": "markdown",
   "metadata": {},
   "source": [
    "# 14 bps - setup"
   ]
  },
  {
   "cell_type": "code",
   "execution_count": 43,
   "metadata": {},
   "outputs": [],
   "source": [
    "bits_per_sample = 14"
   ]
  },
  {
   "cell_type": "code",
   "execution_count": 44,
   "metadata": {},
   "outputs": [],
   "source": [
    "data, values = _make_sample_data_block(\n",
    "    header_size=0,\n",
    "    bits_per_sample=bits_per_sample,\n",
    "    samples_per_block=samples_per_block,\n",
    "    bit_offset=2,\n",
    "    nblocks=10,\n",
    "    sign_mode=sign_mode,\n",
    ")"
   ]
  },
  {
   "attachments": {},
   "cell_type": "markdown",
   "metadata": {},
   "source": [
    "## 14 bps - std"
   ]
  },
  {
   "cell_type": "code",
   "execution_count": 45,
   "metadata": {},
   "outputs": [],
   "source": [
    "out = unpackbits(\n",
    "    data,\n",
    "    bits_per_sample=bits_per_sample,\n",
    "    samples_per_block=samples_per_block,\n",
    "    bit_offset=2,\n",
    "    sign_mode=sign_mode,\n",
    "    use_lut=False,\n",
    ")"
   ]
  },
  {
   "cell_type": "code",
   "execution_count": 46,
   "metadata": {},
   "outputs": [],
   "source": [
    "assert np.all(out == values)"
   ]
  },
  {
   "cell_type": "code",
   "execution_count": 47,
   "metadata": {},
   "outputs": [
    {
     "name": "stdout",
     "output_type": "stream",
     "text": [
      "83.4 µs ± 690 ns per loop (mean ± std. dev. of 7 runs, 10000 loops each)\n"
     ]
    }
   ],
   "source": [
    "%%timeit\n",
    "unpackbits(\n",
    "    data,\n",
    "    bits_per_sample=bits_per_sample,\n",
    "    samples_per_block=samples_per_block,\n",
    "    bit_offset=2,\n",
    "    sign_mode=sign_mode,\n",
    "    use_lut=False,\n",
    ")"
   ]
  },
  {
   "attachments": {},
   "cell_type": "markdown",
   "metadata": {},
   "source": [
    "## 14 bps - lut"
   ]
  },
  {
   "cell_type": "code",
   "execution_count": 48,
   "metadata": {},
   "outputs": [],
   "source": [
    "out = unpackbits(\n",
    "    data,\n",
    "    bits_per_sample=bits_per_sample,\n",
    "    samples_per_block=samples_per_block,\n",
    "    bit_offset=2,\n",
    "    sign_mode=sign_mode,\n",
    "    use_lut=True,\n",
    ")"
   ]
  },
  {
   "cell_type": "code",
   "execution_count": 49,
   "metadata": {},
   "outputs": [],
   "source": [
    "assert np.all(out == values)"
   ]
  },
  {
   "cell_type": "code",
   "execution_count": 50,
   "metadata": {},
   "outputs": [
    {
     "name": "stdout",
     "output_type": "stream",
     "text": [
      "61.2 µs ± 2.65 µs per loop (mean ± std. dev. of 7 runs, 10000 loops each)\n"
     ]
    }
   ],
   "source": [
    "%%timeit\n",
    "unpackbits(\n",
    "    data,\n",
    "    bits_per_sample=bits_per_sample,\n",
    "    samples_per_block=samples_per_block,\n",
    "    bit_offset=2,\n",
    "    sign_mode=sign_mode,\n",
    "    use_lut=True,\n",
    ")"
   ]
  },
  {
   "attachments": {},
   "cell_type": "markdown",
   "metadata": {},
   "source": [
    "# 10 bps - setup"
   ]
  },
  {
   "cell_type": "code",
   "execution_count": 51,
   "metadata": {},
   "outputs": [],
   "source": [
    "bits_per_sample = 10"
   ]
  },
  {
   "cell_type": "code",
   "execution_count": 52,
   "metadata": {},
   "outputs": [],
   "source": [
    "data, values = _make_sample_data_block(\n",
    "    header_size=0,\n",
    "    bits_per_sample=bits_per_sample,\n",
    "    samples_per_block=samples_per_block,\n",
    "    bit_offset=2,\n",
    "    nblocks=10,\n",
    "    sign_mode=sign_mode,\n",
    ")"
   ]
  },
  {
   "attachments": {},
   "cell_type": "markdown",
   "metadata": {},
   "source": [
    "## 10 bps - std"
   ]
  },
  {
   "cell_type": "code",
   "execution_count": 53,
   "metadata": {},
   "outputs": [],
   "source": [
    "out = unpackbits(\n",
    "    data,\n",
    "    bits_per_sample=bits_per_sample,\n",
    "    samples_per_block=samples_per_block,\n",
    "    bit_offset=2,\n",
    "    sign_mode=sign_mode,\n",
    "    use_lut=False,\n",
    ")"
   ]
  },
  {
   "cell_type": "code",
   "execution_count": 54,
   "metadata": {},
   "outputs": [],
   "source": [
    "assert np.all(out == values)"
   ]
  },
  {
   "cell_type": "code",
   "execution_count": 55,
   "metadata": {},
   "outputs": [
    {
     "name": "stdout",
     "output_type": "stream",
     "text": [
      "81.1 µs ± 782 ns per loop (mean ± std. dev. of 7 runs, 10000 loops each)\n"
     ]
    }
   ],
   "source": [
    "%%timeit\n",
    "unpackbits(\n",
    "    data,\n",
    "    bits_per_sample=bits_per_sample,\n",
    "    samples_per_block=samples_per_block,\n",
    "    bit_offset=2,\n",
    "    sign_mode=sign_mode,\n",
    "    use_lut=False,\n",
    ")"
   ]
  },
  {
   "attachments": {},
   "cell_type": "markdown",
   "metadata": {},
   "source": [
    "## 10 bps - lut"
   ]
  },
  {
   "cell_type": "code",
   "execution_count": 56,
   "metadata": {},
   "outputs": [],
   "source": [
    "out = unpackbits(\n",
    "    data,\n",
    "    bits_per_sample=bits_per_sample,\n",
    "    samples_per_block=samples_per_block,\n",
    "    bit_offset=2,\n",
    "    sign_mode=sign_mode,\n",
    "    use_lut=True,\n",
    ")"
   ]
  },
  {
   "cell_type": "code",
   "execution_count": 57,
   "metadata": {},
   "outputs": [],
   "source": [
    "assert np.all(out == values)"
   ]
  },
  {
   "cell_type": "code",
   "execution_count": 58,
   "metadata": {},
   "outputs": [
    {
     "name": "stdout",
     "output_type": "stream",
     "text": [
      "60.6 µs ± 1.42 µs per loop (mean ± std. dev. of 7 runs, 10000 loops each)\n"
     ]
    }
   ],
   "source": [
    "%%timeit\n",
    "unpackbits(\n",
    "    data,\n",
    "    bits_per_sample=bits_per_sample,\n",
    "    samples_per_block=samples_per_block,\n",
    "    bit_offset=2,\n",
    "    sign_mode=sign_mode,\n",
    "    use_lut=True,\n",
    ")"
   ]
  },
  {
   "attachments": {},
   "cell_type": "markdown",
   "metadata": {},
   "source": [
    "# 5 bps - setup"
   ]
  },
  {
   "cell_type": "code",
   "execution_count": 59,
   "metadata": {},
   "outputs": [],
   "source": [
    "bits_per_sample = 5"
   ]
  },
  {
   "cell_type": "code",
   "execution_count": 60,
   "metadata": {},
   "outputs": [],
   "source": [
    "data, values = _make_sample_data_block(\n",
    "    header_size=0,\n",
    "    bits_per_sample=bits_per_sample,\n",
    "    samples_per_block=samples_per_block,\n",
    "    bit_offset=2,\n",
    "    nblocks=20,\n",
    "    sign_mode=sign_mode,\n",
    ")"
   ]
  },
  {
   "attachments": {},
   "cell_type": "markdown",
   "metadata": {},
   "source": [
    "## 5 bps - std"
   ]
  },
  {
   "cell_type": "code",
   "execution_count": 61,
   "metadata": {},
   "outputs": [],
   "source": [
    "out = unpackbits(\n",
    "    data,\n",
    "    bits_per_sample=bits_per_sample,\n",
    "    samples_per_block=samples_per_block,\n",
    "    bit_offset=2,\n",
    "    sign_mode=sign_mode,\n",
    "    use_lut=False,\n",
    ")"
   ]
  },
  {
   "cell_type": "code",
   "execution_count": 62,
   "metadata": {},
   "outputs": [],
   "source": [
    "assert np.all(out[:len(values)] == values)"
   ]
  },
  {
   "cell_type": "code",
   "execution_count": 63,
   "metadata": {},
   "outputs": [
    {
     "name": "stdout",
     "output_type": "stream",
     "text": [
      "88.7 µs ± 942 ns per loop (mean ± std. dev. of 7 runs, 10000 loops each)\n"
     ]
    }
   ],
   "source": [
    "%%timeit\n",
    "unpackbits(\n",
    "    data,\n",
    "    bits_per_sample=bits_per_sample,\n",
    "    samples_per_block=samples_per_block,\n",
    "    bit_offset=2,\n",
    "    sign_mode=sign_mode,\n",
    "    use_lut=False,\n",
    ")"
   ]
  },
  {
   "attachments": {},
   "cell_type": "markdown",
   "metadata": {},
   "source": [
    "## 5 bps - lut"
   ]
  },
  {
   "cell_type": "code",
   "execution_count": 64,
   "metadata": {},
   "outputs": [],
   "source": [
    "out = unpackbits(\n",
    "    data,\n",
    "    bits_per_sample=bits_per_sample,\n",
    "    samples_per_block=samples_per_block,\n",
    "    bit_offset=2,\n",
    "    sign_mode=sign_mode,\n",
    "    use_lut=True,\n",
    ")"
   ]
  },
  {
   "cell_type": "code",
   "execution_count": 65,
   "metadata": {},
   "outputs": [],
   "source": [
    "assert np.all(out[:len(values)] == values)"
   ]
  },
  {
   "cell_type": "code",
   "execution_count": 66,
   "metadata": {},
   "outputs": [
    {
     "name": "stdout",
     "output_type": "stream",
     "text": [
      "75.1 µs ± 1.63 µs per loop (mean ± std. dev. of 7 runs, 10000 loops each)\n"
     ]
    }
   ],
   "source": [
    "%%timeit\n",
    "unpackbits(\n",
    "    data,\n",
    "    bits_per_sample=bits_per_sample,\n",
    "    samples_per_block=samples_per_block,\n",
    "    bit_offset=2,\n",
    "    sign_mode=sign_mode,\n",
    "    use_lut=True,\n",
    ")"
   ]
  },
  {
   "attachments": {},
   "cell_type": "markdown",
   "metadata": {},
   "source": [
    "# 3 bps - setup"
   ]
  },
  {
   "cell_type": "code",
   "execution_count": 67,
   "metadata": {},
   "outputs": [],
   "source": [
    "bits_per_sample = 3"
   ]
  },
  {
   "cell_type": "code",
   "execution_count": 68,
   "metadata": {},
   "outputs": [],
   "source": [
    "data, values = _make_sample_data_block(\n",
    "    header_size=0,\n",
    "    bits_per_sample=bits_per_sample,\n",
    "    samples_per_block=samples_per_block,\n",
    "    bit_offset=2,\n",
    "    nblocks=20,\n",
    "    sign_mode=sign_mode,\n",
    ")"
   ]
  },
  {
   "attachments": {},
   "cell_type": "markdown",
   "metadata": {},
   "source": [
    "## 3 bps - std"
   ]
  },
  {
   "cell_type": "code",
   "execution_count": 69,
   "metadata": {},
   "outputs": [],
   "source": [
    "out = unpackbits(\n",
    "    data,\n",
    "    bits_per_sample=bits_per_sample,\n",
    "    samples_per_block=samples_per_block,\n",
    "    bit_offset=2,\n",
    "    sign_mode=sign_mode,\n",
    "    use_lut=False,\n",
    ")"
   ]
  },
  {
   "cell_type": "code",
   "execution_count": 70,
   "metadata": {},
   "outputs": [],
   "source": [
    "assert np.all(out[:len(values)] == values)"
   ]
  },
  {
   "cell_type": "code",
   "execution_count": 71,
   "metadata": {},
   "outputs": [
    {
     "name": "stdout",
     "output_type": "stream",
     "text": [
      "88.5 µs ± 547 ns per loop (mean ± std. dev. of 7 runs, 10000 loops each)\n"
     ]
    }
   ],
   "source": [
    "%%timeit\n",
    "unpackbits(\n",
    "    data,\n",
    "    bits_per_sample=bits_per_sample,\n",
    "    samples_per_block=samples_per_block,\n",
    "    bit_offset=2,\n",
    "    sign_mode=sign_mode,\n",
    "    use_lut=False,\n",
    ")"
   ]
  },
  {
   "attachments": {},
   "cell_type": "markdown",
   "metadata": {},
   "source": [
    "## 3 bps - lut"
   ]
  },
  {
   "cell_type": "code",
   "execution_count": 72,
   "metadata": {},
   "outputs": [],
   "source": [
    "out = unpackbits(\n",
    "    data,\n",
    "    bits_per_sample=bits_per_sample,\n",
    "    samples_per_block=samples_per_block,\n",
    "    bit_offset=2,\n",
    "    sign_mode=sign_mode,\n",
    "    use_lut=True,\n",
    ")"
   ]
  },
  {
   "cell_type": "code",
   "execution_count": 73,
   "metadata": {},
   "outputs": [],
   "source": [
    "assert np.all(out[:len(values)] == values)"
   ]
  },
  {
   "cell_type": "code",
   "execution_count": 74,
   "metadata": {},
   "outputs": [
    {
     "name": "stdout",
     "output_type": "stream",
     "text": [
      "75 µs ± 1.38 µs per loop (mean ± std. dev. of 7 runs, 10000 loops each)\n"
     ]
    }
   ],
   "source": [
    "%%timeit\n",
    "unpackbits(\n",
    "    data,\n",
    "    bits_per_sample=bits_per_sample,\n",
    "    samples_per_block=samples_per_block,\n",
    "    bit_offset=2,\n",
    "    sign_mode=sign_mode,\n",
    "    use_lut=True,\n",
    ")"
   ]
  }
 ],
 "metadata": {
  "kernelspec": {
   "display_name": "Python 3",
   "language": "python",
   "name": "python3"
  },
  "language_info": {
   "codemirror_mode": {
    "name": "ipython",
    "version": 3
   },
   "file_extension": ".py",
   "mimetype": "text/x-python",
   "name": "python",
   "nbconvert_exporter": "python",
   "pygments_lexer": "ipython3",
   "version": "3.10.7"
  },
  "orig_nbformat": 4,
  "vscode": {
   "interpreter": {
    "hash": "31f2aee4e71d21fbe5cf8b01ff0e069b9275f58929596ceb00d14d90e3e16cd6"
   }
  }
 },
 "nbformat": 4,
 "nbformat_minor": 2
}

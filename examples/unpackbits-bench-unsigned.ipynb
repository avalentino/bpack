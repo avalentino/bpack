{
 "cells": [
  {
   "cell_type": "code",
   "execution_count": 75,
   "metadata": {},
   "outputs": [
    {
     "name": "stdout",
     "output_type": "stream",
     "text": [
      "The autoreload extension is already loaded. To reload it, use:\n",
      "  %reload_ext autoreload\n"
     ]
    }
   ],
   "source": [
    "%load_ext autoreload\n",
    "%autoreload 2"
   ]
  },
  {
   "cell_type": "code",
   "execution_count": 76,
   "metadata": {},
   "outputs": [],
   "source": [
    "import sys\n",
    "sys.path.append(\"..\")"
   ]
  },
  {
   "cell_type": "code",
   "execution_count": 77,
   "metadata": {},
   "outputs": [],
   "source": [
    "import numpy as np"
   ]
  },
  {
   "cell_type": "code",
   "execution_count": 78,
   "metadata": {},
   "outputs": [],
   "source": [
    "from bpack.np import unpackbits, ESignMode\n",
    "from bpack.tests.test_packbits import _make_sample_data_block"
   ]
  },
  {
   "cell_type": "code",
   "execution_count": 79,
   "metadata": {},
   "outputs": [],
   "source": [
    "samples_per_block = 128\n",
    "sign_mode = ESignMode.UNSIGNED"
   ]
  },
  {
   "attachments": {},
   "cell_type": "markdown",
   "metadata": {},
   "source": [
    "# 14 bps - setup"
   ]
  },
  {
   "cell_type": "code",
   "execution_count": 80,
   "metadata": {},
   "outputs": [],
   "source": [
    "bits_per_sample = 14"
   ]
  },
  {
   "cell_type": "code",
   "execution_count": 81,
   "metadata": {},
   "outputs": [],
   "source": [
    "data, values = _make_sample_data_block(\n",
    "    header_size=0,\n",
    "    bits_per_sample=bits_per_sample,\n",
    "    samples_per_block=samples_per_block,\n",
    "    bit_offset=2,\n",
    "    nblocks=10,\n",
    "    sign_mode=sign_mode,\n",
    ")"
   ]
  },
  {
   "attachments": {},
   "cell_type": "markdown",
   "metadata": {},
   "source": [
    "## 14 bps - std"
   ]
  },
  {
   "cell_type": "code",
   "execution_count": 82,
   "metadata": {},
   "outputs": [],
   "source": [
    "out = unpackbits(\n",
    "    data,\n",
    "    bits_per_sample=bits_per_sample,\n",
    "    samples_per_block=samples_per_block,\n",
    "    bit_offset=2,\n",
    "    sign_mode=sign_mode,\n",
    "    use_lut=False,\n",
    ")"
   ]
  },
  {
   "cell_type": "code",
   "execution_count": 83,
   "metadata": {},
   "outputs": [],
   "source": [
    "assert np.all(out == values)"
   ]
  },
  {
   "cell_type": "code",
   "execution_count": 84,
   "metadata": {},
   "outputs": [
    {
     "name": "stdout",
     "output_type": "stream",
     "text": [
      "47 µs ± 931 ns per loop (mean ± std. dev. of 7 runs, 10000 loops each)\n"
     ]
    }
   ],
   "source": [
    "%%timeit\n",
    "unpackbits(\n",
    "    data,\n",
    "    bits_per_sample=bits_per_sample,\n",
    "    samples_per_block=samples_per_block,\n",
    "    bit_offset=2,\n",
    "    sign_mode=sign_mode,\n",
    "    use_lut=False,\n",
    ")"
   ]
  },
  {
   "attachments": {},
   "cell_type": "markdown",
   "metadata": {},
   "source": [
    "## 14 bps - lut"
   ]
  },
  {
   "cell_type": "code",
   "execution_count": 85,
   "metadata": {},
   "outputs": [],
   "source": [
    "out = unpackbits(\n",
    "    data,\n",
    "    bits_per_sample=bits_per_sample,\n",
    "    samples_per_block=samples_per_block,\n",
    "    bit_offset=2,\n",
    "    sign_mode=sign_mode,\n",
    "    use_lut=True,\n",
    ")"
   ]
  },
  {
   "cell_type": "code",
   "execution_count": 86,
   "metadata": {},
   "outputs": [],
   "source": [
    "assert np.all(out == values)"
   ]
  },
  {
   "cell_type": "code",
   "execution_count": 87,
   "metadata": {},
   "outputs": [
    {
     "name": "stdout",
     "output_type": "stream",
     "text": [
      "46.8 µs ± 720 ns per loop (mean ± std. dev. of 7 runs, 10000 loops each)\n"
     ]
    }
   ],
   "source": [
    "%%timeit\n",
    "unpackbits(\n",
    "    data,\n",
    "    bits_per_sample=bits_per_sample,\n",
    "    samples_per_block=samples_per_block,\n",
    "    bit_offset=2,\n",
    "    sign_mode=sign_mode,\n",
    "    use_lut=True,\n",
    ")"
   ]
  },
  {
   "attachments": {},
   "cell_type": "markdown",
   "metadata": {},
   "source": [
    "# 10 bps - setup"
   ]
  },
  {
   "cell_type": "code",
   "execution_count": 88,
   "metadata": {},
   "outputs": [],
   "source": [
    "bits_per_sample = 10"
   ]
  },
  {
   "cell_type": "code",
   "execution_count": 89,
   "metadata": {},
   "outputs": [],
   "source": [
    "data, values = _make_sample_data_block(\n",
    "    header_size=0,\n",
    "    bits_per_sample=bits_per_sample,\n",
    "    samples_per_block=samples_per_block,\n",
    "    bit_offset=2,\n",
    "    nblocks=10,\n",
    "    sign_mode=sign_mode,\n",
    ")"
   ]
  },
  {
   "attachments": {},
   "cell_type": "markdown",
   "metadata": {},
   "source": [
    "## 10 bps - std"
   ]
  },
  {
   "cell_type": "code",
   "execution_count": 90,
   "metadata": {},
   "outputs": [],
   "source": [
    "out = unpackbits(\n",
    "    data,\n",
    "    bits_per_sample=bits_per_sample,\n",
    "    samples_per_block=samples_per_block,\n",
    "    bit_offset=2,\n",
    "    sign_mode=sign_mode,\n",
    "    use_lut=False,\n",
    ")"
   ]
  },
  {
   "cell_type": "code",
   "execution_count": 91,
   "metadata": {},
   "outputs": [],
   "source": [
    "assert np.all(out == values)"
   ]
  },
  {
   "cell_type": "code",
   "execution_count": 92,
   "metadata": {},
   "outputs": [
    {
     "name": "stdout",
     "output_type": "stream",
     "text": [
      "46.3 µs ± 324 ns per loop (mean ± std. dev. of 7 runs, 10000 loops each)\n"
     ]
    }
   ],
   "source": [
    "%%timeit\n",
    "unpackbits(\n",
    "    data,\n",
    "    bits_per_sample=bits_per_sample,\n",
    "    samples_per_block=samples_per_block,\n",
    "    bit_offset=2,\n",
    "    sign_mode=sign_mode,\n",
    "    use_lut=False,\n",
    ")"
   ]
  },
  {
   "attachments": {},
   "cell_type": "markdown",
   "metadata": {},
   "source": [
    "## 10 bps - lut"
   ]
  },
  {
   "cell_type": "code",
   "execution_count": 93,
   "metadata": {},
   "outputs": [],
   "source": [
    "out = unpackbits(\n",
    "    data,\n",
    "    bits_per_sample=bits_per_sample,\n",
    "    samples_per_block=samples_per_block,\n",
    "    bit_offset=2,\n",
    "    sign_mode=sign_mode,\n",
    "    use_lut=True,\n",
    ")"
   ]
  },
  {
   "cell_type": "code",
   "execution_count": 94,
   "metadata": {},
   "outputs": [],
   "source": [
    "assert np.all(out == values)"
   ]
  },
  {
   "cell_type": "code",
   "execution_count": 95,
   "metadata": {},
   "outputs": [
    {
     "name": "stdout",
     "output_type": "stream",
     "text": [
      "46.7 µs ± 81.2 ns per loop (mean ± std. dev. of 7 runs, 10000 loops each)\n"
     ]
    }
   ],
   "source": [
    "%%timeit\n",
    "unpackbits(\n",
    "    data,\n",
    "    bits_per_sample=bits_per_sample,\n",
    "    samples_per_block=samples_per_block,\n",
    "    bit_offset=2,\n",
    "    sign_mode=sign_mode,\n",
    "    use_lut=True,\n",
    ")"
   ]
  },
  {
   "attachments": {},
   "cell_type": "markdown",
   "metadata": {},
   "source": [
    "# 5 bps - setup"
   ]
  },
  {
   "cell_type": "code",
   "execution_count": 96,
   "metadata": {},
   "outputs": [],
   "source": [
    "bits_per_sample = 5"
   ]
  },
  {
   "cell_type": "code",
   "execution_count": 97,
   "metadata": {},
   "outputs": [],
   "source": [
    "data, values = _make_sample_data_block(\n",
    "    header_size=0,\n",
    "    bits_per_sample=bits_per_sample,\n",
    "    samples_per_block=samples_per_block,\n",
    "    bit_offset=2,\n",
    "    nblocks=20,\n",
    "    sign_mode=sign_mode,\n",
    ")"
   ]
  },
  {
   "attachments": {},
   "cell_type": "markdown",
   "metadata": {},
   "source": [
    "## 5 bps - std"
   ]
  },
  {
   "cell_type": "code",
   "execution_count": 98,
   "metadata": {},
   "outputs": [],
   "source": [
    "out = unpackbits(\n",
    "    data,\n",
    "    bits_per_sample=bits_per_sample,\n",
    "    samples_per_block=samples_per_block,\n",
    "    bit_offset=2,\n",
    "    sign_mode=sign_mode,\n",
    "    use_lut=False,\n",
    ")"
   ]
  },
  {
   "cell_type": "code",
   "execution_count": 99,
   "metadata": {},
   "outputs": [],
   "source": [
    "assert np.all(out[:len(values)] == values)"
   ]
  },
  {
   "cell_type": "code",
   "execution_count": 100,
   "metadata": {},
   "outputs": [
    {
     "name": "stdout",
     "output_type": "stream",
     "text": [
      "51.4 µs ± 1.06 µs per loop (mean ± std. dev. of 7 runs, 10000 loops each)\n"
     ]
    }
   ],
   "source": [
    "%%timeit\n",
    "unpackbits(\n",
    "    data,\n",
    "    bits_per_sample=bits_per_sample,\n",
    "    samples_per_block=samples_per_block,\n",
    "    bit_offset=2,\n",
    "    sign_mode=sign_mode,\n",
    "    use_lut=False,\n",
    ")"
   ]
  },
  {
   "attachments": {},
   "cell_type": "markdown",
   "metadata": {},
   "source": [
    "## 5 bps - lut"
   ]
  },
  {
   "cell_type": "code",
   "execution_count": 101,
   "metadata": {},
   "outputs": [],
   "source": [
    "out = unpackbits(\n",
    "    data,\n",
    "    bits_per_sample=bits_per_sample,\n",
    "    samples_per_block=samples_per_block,\n",
    "    bit_offset=2,\n",
    "    sign_mode=sign_mode,\n",
    "    use_lut=True,\n",
    ")"
   ]
  },
  {
   "cell_type": "code",
   "execution_count": 102,
   "metadata": {},
   "outputs": [],
   "source": [
    "assert np.all(out[:len(values)] == values)"
   ]
  },
  {
   "cell_type": "code",
   "execution_count": 103,
   "metadata": {},
   "outputs": [
    {
     "name": "stdout",
     "output_type": "stream",
     "text": [
      "50 µs ± 138 ns per loop (mean ± std. dev. of 7 runs, 10000 loops each)\n"
     ]
    }
   ],
   "source": [
    "%%timeit\n",
    "unpackbits(\n",
    "    data,\n",
    "    bits_per_sample=bits_per_sample,\n",
    "    samples_per_block=samples_per_block,\n",
    "    bit_offset=2,\n",
    "    sign_mode=sign_mode,\n",
    "    use_lut=True,\n",
    ")"
   ]
  },
  {
   "attachments": {},
   "cell_type": "markdown",
   "metadata": {},
   "source": [
    "# 3 bps - setup"
   ]
  },
  {
   "cell_type": "code",
   "execution_count": 104,
   "metadata": {},
   "outputs": [],
   "source": [
    "bits_per_sample = 3"
   ]
  },
  {
   "cell_type": "code",
   "execution_count": 105,
   "metadata": {},
   "outputs": [],
   "source": [
    "data, values = _make_sample_data_block(\n",
    "    header_size=0,\n",
    "    bits_per_sample=bits_per_sample,\n",
    "    samples_per_block=samples_per_block,\n",
    "    bit_offset=2,\n",
    "    nblocks=20,\n",
    "    sign_mode=sign_mode,\n",
    ")"
   ]
  },
  {
   "attachments": {},
   "cell_type": "markdown",
   "metadata": {},
   "source": [
    "## 3 bps - std"
   ]
  },
  {
   "cell_type": "code",
   "execution_count": 106,
   "metadata": {},
   "outputs": [],
   "source": [
    "out = unpackbits(\n",
    "    data,\n",
    "    bits_per_sample=bits_per_sample,\n",
    "    samples_per_block=samples_per_block,\n",
    "    bit_offset=2,\n",
    "    sign_mode=sign_mode,\n",
    "    use_lut=False,\n",
    ")"
   ]
  },
  {
   "cell_type": "code",
   "execution_count": 107,
   "metadata": {},
   "outputs": [],
   "source": [
    "assert np.all(out[:len(values)] == values)"
   ]
  },
  {
   "cell_type": "code",
   "execution_count": 108,
   "metadata": {},
   "outputs": [
    {
     "name": "stdout",
     "output_type": "stream",
     "text": [
      "50.8 µs ± 674 ns per loop (mean ± std. dev. of 7 runs, 10000 loops each)\n"
     ]
    }
   ],
   "source": [
    "%%timeit\n",
    "unpackbits(\n",
    "    data,\n",
    "    bits_per_sample=bits_per_sample,\n",
    "    samples_per_block=samples_per_block,\n",
    "    bit_offset=2,\n",
    "    sign_mode=sign_mode,\n",
    "    use_lut=False,\n",
    ")"
   ]
  },
  {
   "attachments": {},
   "cell_type": "markdown",
   "metadata": {},
   "source": [
    "## 3 bps - lut"
   ]
  },
  {
   "cell_type": "code",
   "execution_count": 109,
   "metadata": {},
   "outputs": [],
   "source": [
    "out = unpackbits(\n",
    "    data,\n",
    "    bits_per_sample=bits_per_sample,\n",
    "    samples_per_block=samples_per_block,\n",
    "    bit_offset=2,\n",
    "    sign_mode=sign_mode,\n",
    "    use_lut=True,\n",
    ")"
   ]
  },
  {
   "cell_type": "code",
   "execution_count": 110,
   "metadata": {},
   "outputs": [],
   "source": [
    "assert np.all(out[:len(values)] == values)"
   ]
  },
  {
   "cell_type": "code",
   "execution_count": 111,
   "metadata": {},
   "outputs": [
    {
     "name": "stdout",
     "output_type": "stream",
     "text": [
      "52.7 µs ± 1.17 µs per loop (mean ± std. dev. of 7 runs, 10000 loops each)\n"
     ]
    }
   ],
   "source": [
    "%%timeit\n",
    "unpackbits(\n",
    "    data,\n",
    "    bits_per_sample=bits_per_sample,\n",
    "    samples_per_block=samples_per_block,\n",
    "    bit_offset=2,\n",
    "    sign_mode=sign_mode,\n",
    "    use_lut=True,\n",
    ")"
   ]
  }
 ],
 "metadata": {
  "kernelspec": {
   "display_name": "Python 3",
   "language": "python",
   "name": "python3"
  },
  "language_info": {
   "codemirror_mode": {
    "name": "ipython",
    "version": 3
   },
   "file_extension": ".py",
   "mimetype": "text/x-python",
   "name": "python",
   "nbconvert_exporter": "python",
   "pygments_lexer": "ipython3",
   "version": "3.10.7"
  },
  "orig_nbformat": 4,
  "vscode": {
   "interpreter": {
    "hash": "31f2aee4e71d21fbe5cf8b01ff0e069b9275f58929596ceb00d14d90e3e16cd6"
   }
  }
 },
 "nbformat": 4,
 "nbformat_minor": 2
}
